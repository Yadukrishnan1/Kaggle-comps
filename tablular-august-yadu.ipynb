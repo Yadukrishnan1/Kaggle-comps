{
 "cells": [
  {
   "cell_type": "code",
   "execution_count": 1,
   "id": "de562e34",
   "metadata": {
    "_cell_guid": "b1076dfc-b9ad-4769-8c92-a6c4dae69d19",
    "_uuid": "8f2839f25d086af736a60e9eeb907d3b93b6e0e5",
    "execution": {
     "iopub.execute_input": "2021-08-07T21:41:20.183444Z",
     "iopub.status.busy": "2021-08-07T21:41:20.178284Z",
     "iopub.status.idle": "2021-08-07T21:41:21.176450Z",
     "shell.execute_reply": "2021-08-07T21:41:21.175083Z",
     "shell.execute_reply.started": "2021-08-07T21:32:32.280821Z"
    },
    "papermill": {
     "duration": 1.021479,
     "end_time": "2021-08-07T21:41:21.176676",
     "exception": false,
     "start_time": "2021-08-07T21:41:20.155197",
     "status": "completed"
    },
    "tags": []
   },
   "outputs": [
    {
     "name": "stdout",
     "output_type": "stream",
     "text": [
      "/kaggle/input/tabular-playground-series-aug-2021/sample_submission.csv\n",
      "/kaggle/input/tabular-playground-series-aug-2021/train.csv\n",
      "/kaggle/input/tabular-playground-series-aug-2021/test.csv\n"
     ]
    }
   ],
   "source": [
    "# This Python 3 environment comes with many helpful analytics libraries installed\n",
    "# It is defined by the kaggle/python Docker image: https://github.com/kaggle/docker-python\n",
    "# For example, here's several helpful packages to load\n",
    "\n",
    "import numpy as np # linear algebra\n",
    "import pandas as pd # data processing, CSV file I/O (e.g. pd.read_csv)\n",
    "import seaborn as sns\n",
    "# Input data files are available in the read-only \"../input/\" directory\n",
    "# For example, running this (by clicking run or pressing Shift+Enter) will list all files under the input directory\n",
    "\n",
    "import os\n",
    "for dirname, _, filenames in os.walk('/kaggle/input'):\n",
    "    for filename in filenames:\n",
    "        print(os.path.join(dirname, filename))\n",
    "\n",
    "# You can write up to 20GB to the current directory (/kaggle/working/) that gets preserved as output when you create a version using \"Save & Run All\" \n",
    "# You can also write temporary files to /kaggle/temp/, but they won't be saved outside of the current session"
   ]
  },
  {
   "cell_type": "code",
   "execution_count": 2,
   "id": "89b94050",
   "metadata": {
    "execution": {
     "iopub.execute_input": "2021-08-07T21:41:21.212039Z",
     "iopub.status.busy": "2021-08-07T21:41:21.211327Z",
     "iopub.status.idle": "2021-08-07T21:41:28.207590Z",
     "shell.execute_reply": "2021-08-07T21:41:28.207024Z",
     "shell.execute_reply.started": "2021-08-07T21:32:34.411328Z"
    },
    "papermill": {
     "duration": 7.017392,
     "end_time": "2021-08-07T21:41:28.207753",
     "exception": false,
     "start_time": "2021-08-07T21:41:21.190361",
     "status": "completed"
    },
    "tags": []
   },
   "outputs": [
    {
     "data": {
      "text/html": [
       "<div>\n",
       "<style scoped>\n",
       "    .dataframe tbody tr th:only-of-type {\n",
       "        vertical-align: middle;\n",
       "    }\n",
       "\n",
       "    .dataframe tbody tr th {\n",
       "        vertical-align: top;\n",
       "    }\n",
       "\n",
       "    .dataframe thead th {\n",
       "        text-align: right;\n",
       "    }\n",
       "</style>\n",
       "<table border=\"1\" class=\"dataframe\">\n",
       "  <thead>\n",
       "    <tr style=\"text-align: right;\">\n",
       "      <th></th>\n",
       "      <th>id</th>\n",
       "      <th>f0</th>\n",
       "      <th>f1</th>\n",
       "      <th>f2</th>\n",
       "      <th>f3</th>\n",
       "      <th>f4</th>\n",
       "      <th>f5</th>\n",
       "      <th>f6</th>\n",
       "      <th>f7</th>\n",
       "      <th>f8</th>\n",
       "      <th>...</th>\n",
       "      <th>f91</th>\n",
       "      <th>f92</th>\n",
       "      <th>f93</th>\n",
       "      <th>f94</th>\n",
       "      <th>f95</th>\n",
       "      <th>f96</th>\n",
       "      <th>f97</th>\n",
       "      <th>f98</th>\n",
       "      <th>f99</th>\n",
       "      <th>loss</th>\n",
       "    </tr>\n",
       "  </thead>\n",
       "  <tbody>\n",
       "    <tr>\n",
       "      <th>0</th>\n",
       "      <td>0</td>\n",
       "      <td>-0.002350</td>\n",
       "      <td>59</td>\n",
       "      <td>0.766739</td>\n",
       "      <td>-1.350460</td>\n",
       "      <td>42.2727</td>\n",
       "      <td>16.68570</td>\n",
       "      <td>30.3599</td>\n",
       "      <td>1.267300</td>\n",
       "      <td>0.392007</td>\n",
       "      <td>...</td>\n",
       "      <td>-42.43990</td>\n",
       "      <td>26.854000</td>\n",
       "      <td>1.45751</td>\n",
       "      <td>0.696161</td>\n",
       "      <td>0.941764</td>\n",
       "      <td>1.828470</td>\n",
       "      <td>0.924090</td>\n",
       "      <td>2.29658</td>\n",
       "      <td>10.48980</td>\n",
       "      <td>15</td>\n",
       "    </tr>\n",
       "    <tr>\n",
       "      <th>1</th>\n",
       "      <td>1</td>\n",
       "      <td>0.784462</td>\n",
       "      <td>145</td>\n",
       "      <td>-0.463845</td>\n",
       "      <td>-0.530421</td>\n",
       "      <td>27324.9000</td>\n",
       "      <td>3.47545</td>\n",
       "      <td>160.4980</td>\n",
       "      <td>0.828007</td>\n",
       "      <td>3.735860</td>\n",
       "      <td>...</td>\n",
       "      <td>-184.13200</td>\n",
       "      <td>7.901370</td>\n",
       "      <td>1.70644</td>\n",
       "      <td>-0.494699</td>\n",
       "      <td>-2.058300</td>\n",
       "      <td>0.819184</td>\n",
       "      <td>0.439152</td>\n",
       "      <td>2.36470</td>\n",
       "      <td>1.14383</td>\n",
       "      <td>3</td>\n",
       "    </tr>\n",
       "    <tr>\n",
       "      <th>2</th>\n",
       "      <td>2</td>\n",
       "      <td>0.317816</td>\n",
       "      <td>19</td>\n",
       "      <td>-0.432571</td>\n",
       "      <td>-0.382644</td>\n",
       "      <td>1383.2600</td>\n",
       "      <td>19.71290</td>\n",
       "      <td>31.1026</td>\n",
       "      <td>-0.515354</td>\n",
       "      <td>34.430800</td>\n",
       "      <td>...</td>\n",
       "      <td>7.43721</td>\n",
       "      <td>37.218100</td>\n",
       "      <td>3.25339</td>\n",
       "      <td>0.337934</td>\n",
       "      <td>0.615037</td>\n",
       "      <td>2.216760</td>\n",
       "      <td>0.745268</td>\n",
       "      <td>1.69679</td>\n",
       "      <td>12.30550</td>\n",
       "      <td>6</td>\n",
       "    </tr>\n",
       "    <tr>\n",
       "      <th>3</th>\n",
       "      <td>3</td>\n",
       "      <td>0.210753</td>\n",
       "      <td>17</td>\n",
       "      <td>-0.616454</td>\n",
       "      <td>0.946362</td>\n",
       "      <td>-119.2530</td>\n",
       "      <td>4.08235</td>\n",
       "      <td>185.2570</td>\n",
       "      <td>1.383310</td>\n",
       "      <td>-47.521400</td>\n",
       "      <td>...</td>\n",
       "      <td>9.66778</td>\n",
       "      <td>0.626942</td>\n",
       "      <td>1.49425</td>\n",
       "      <td>0.517513</td>\n",
       "      <td>-10.222100</td>\n",
       "      <td>2.627310</td>\n",
       "      <td>0.617270</td>\n",
       "      <td>1.45645</td>\n",
       "      <td>10.02880</td>\n",
       "      <td>2</td>\n",
       "    </tr>\n",
       "    <tr>\n",
       "      <th>4</th>\n",
       "      <td>4</td>\n",
       "      <td>0.439671</td>\n",
       "      <td>20</td>\n",
       "      <td>0.968126</td>\n",
       "      <td>-0.092546</td>\n",
       "      <td>74.3020</td>\n",
       "      <td>12.30650</td>\n",
       "      <td>72.1860</td>\n",
       "      <td>-0.233964</td>\n",
       "      <td>24.399100</td>\n",
       "      <td>...</td>\n",
       "      <td>290.65700</td>\n",
       "      <td>15.604300</td>\n",
       "      <td>1.73557</td>\n",
       "      <td>-0.476668</td>\n",
       "      <td>1.390190</td>\n",
       "      <td>2.195740</td>\n",
       "      <td>0.826987</td>\n",
       "      <td>1.78485</td>\n",
       "      <td>7.07197</td>\n",
       "      <td>1</td>\n",
       "    </tr>\n",
       "  </tbody>\n",
       "</table>\n",
       "<p>5 rows × 102 columns</p>\n",
       "</div>"
      ],
      "text/plain": [
       "   id        f0   f1        f2        f3          f4        f5        f6  \\\n",
       "0   0 -0.002350   59  0.766739 -1.350460     42.2727  16.68570   30.3599   \n",
       "1   1  0.784462  145 -0.463845 -0.530421  27324.9000   3.47545  160.4980   \n",
       "2   2  0.317816   19 -0.432571 -0.382644   1383.2600  19.71290   31.1026   \n",
       "3   3  0.210753   17 -0.616454  0.946362   -119.2530   4.08235  185.2570   \n",
       "4   4  0.439671   20  0.968126 -0.092546     74.3020  12.30650   72.1860   \n",
       "\n",
       "         f7         f8  ...        f91        f92      f93       f94  \\\n",
       "0  1.267300   0.392007  ...  -42.43990  26.854000  1.45751  0.696161   \n",
       "1  0.828007   3.735860  ... -184.13200   7.901370  1.70644 -0.494699   \n",
       "2 -0.515354  34.430800  ...    7.43721  37.218100  3.25339  0.337934   \n",
       "3  1.383310 -47.521400  ...    9.66778   0.626942  1.49425  0.517513   \n",
       "4 -0.233964  24.399100  ...  290.65700  15.604300  1.73557 -0.476668   \n",
       "\n",
       "         f95       f96       f97      f98       f99  loss  \n",
       "0   0.941764  1.828470  0.924090  2.29658  10.48980    15  \n",
       "1  -2.058300  0.819184  0.439152  2.36470   1.14383     3  \n",
       "2   0.615037  2.216760  0.745268  1.69679  12.30550     6  \n",
       "3 -10.222100  2.627310  0.617270  1.45645  10.02880     2  \n",
       "4   1.390190  2.195740  0.826987  1.78485   7.07197     1  \n",
       "\n",
       "[5 rows x 102 columns]"
      ]
     },
     "execution_count": 2,
     "metadata": {},
     "output_type": "execute_result"
    }
   ],
   "source": [
    "train_df = pd.read_csv(\"/kaggle/input/tabular-playground-series-aug-2021/train.csv\")\n",
    "train_df.head()"
   ]
  },
  {
   "cell_type": "code",
   "execution_count": 3,
   "id": "e58fbbce",
   "metadata": {
    "execution": {
     "iopub.execute_input": "2021-08-07T21:41:28.318319Z",
     "iopub.status.busy": "2021-08-07T21:41:28.317565Z",
     "iopub.status.idle": "2021-08-07T21:41:29.405510Z",
     "shell.execute_reply": "2021-08-07T21:41:29.405965Z",
     "shell.execute_reply.started": "2021-08-07T21:32:39.692155Z"
    },
    "papermill": {
     "duration": 1.185231,
     "end_time": "2021-08-07T21:41:29.406131",
     "exception": false,
     "start_time": "2021-08-07T21:41:28.220900",
     "status": "completed"
    },
    "tags": []
   },
   "outputs": [
    {
     "data": {
      "text/html": [
       "<div>\n",
       "<style scoped>\n",
       "    .dataframe tbody tr th:only-of-type {\n",
       "        vertical-align: middle;\n",
       "    }\n",
       "\n",
       "    .dataframe tbody tr th {\n",
       "        vertical-align: top;\n",
       "    }\n",
       "\n",
       "    .dataframe thead th {\n",
       "        text-align: right;\n",
       "    }\n",
       "</style>\n",
       "<table border=\"1\" class=\"dataframe\">\n",
       "  <thead>\n",
       "    <tr style=\"text-align: right;\">\n",
       "      <th></th>\n",
       "      <th>id</th>\n",
       "      <th>f0</th>\n",
       "      <th>f1</th>\n",
       "      <th>f2</th>\n",
       "      <th>f3</th>\n",
       "      <th>f4</th>\n",
       "      <th>f5</th>\n",
       "      <th>f6</th>\n",
       "      <th>f7</th>\n",
       "      <th>f8</th>\n",
       "      <th>...</th>\n",
       "      <th>f91</th>\n",
       "      <th>f92</th>\n",
       "      <th>f93</th>\n",
       "      <th>f94</th>\n",
       "      <th>f95</th>\n",
       "      <th>f96</th>\n",
       "      <th>f97</th>\n",
       "      <th>f98</th>\n",
       "      <th>f99</th>\n",
       "      <th>loss</th>\n",
       "    </tr>\n",
       "  </thead>\n",
       "  <tbody>\n",
       "    <tr>\n",
       "      <th>count</th>\n",
       "      <td>250000.000000</td>\n",
       "      <td>250000.000000</td>\n",
       "      <td>250000.000000</td>\n",
       "      <td>250000.000000</td>\n",
       "      <td>250000.000000</td>\n",
       "      <td>250000.000000</td>\n",
       "      <td>250000.000000</td>\n",
       "      <td>250000.000000</td>\n",
       "      <td>250000.000000</td>\n",
       "      <td>250000.000000</td>\n",
       "      <td>...</td>\n",
       "      <td>250000.000000</td>\n",
       "      <td>250000.000000</td>\n",
       "      <td>250000.000000</td>\n",
       "      <td>250000.000000</td>\n",
       "      <td>250000.000000</td>\n",
       "      <td>250000.000000</td>\n",
       "      <td>250000.000000</td>\n",
       "      <td>250000.000000</td>\n",
       "      <td>250000.000000</td>\n",
       "      <td>250000.000000</td>\n",
       "    </tr>\n",
       "    <tr>\n",
       "      <th>mean</th>\n",
       "      <td>124999.500000</td>\n",
       "      <td>0.511213</td>\n",
       "      <td>51.378476</td>\n",
       "      <td>0.107155</td>\n",
       "      <td>0.050010</td>\n",
       "      <td>3595.133426</td>\n",
       "      <td>8.205953</td>\n",
       "      <td>164.508753</td>\n",
       "      <td>0.375533</td>\n",
       "      <td>16.669745</td>\n",
       "      <td>...</td>\n",
       "      <td>4856.812768</td>\n",
       "      <td>22.579100</td>\n",
       "      <td>2.030554</td>\n",
       "      <td>0.079692</td>\n",
       "      <td>1.555097</td>\n",
       "      <td>2.417556</td>\n",
       "      <td>0.537484</td>\n",
       "      <td>1.576900</td>\n",
       "      <td>8.048805</td>\n",
       "      <td>6.813920</td>\n",
       "    </tr>\n",
       "    <tr>\n",
       "      <th>std</th>\n",
       "      <td>72168.927986</td>\n",
       "      <td>0.307884</td>\n",
       "      <td>42.396636</td>\n",
       "      <td>1.322200</td>\n",
       "      <td>0.792368</td>\n",
       "      <td>6072.401061</td>\n",
       "      <td>5.475723</td>\n",
       "      <td>183.335563</td>\n",
       "      <td>0.813597</td>\n",
       "      <td>99.758709</td>\n",
       "      <td>...</td>\n",
       "      <td>8501.609009</td>\n",
       "      <td>14.849390</td>\n",
       "      <td>0.900211</td>\n",
       "      <td>0.587780</td>\n",
       "      <td>9.253785</td>\n",
       "      <td>0.892563</td>\n",
       "      <td>0.226589</td>\n",
       "      <td>0.646306</td>\n",
       "      <td>5.647368</td>\n",
       "      <td>7.940179</td>\n",
       "    </tr>\n",
       "    <tr>\n",
       "      <th>min</th>\n",
       "      <td>0.000000</td>\n",
       "      <td>-0.069273</td>\n",
       "      <td>-17.000000</td>\n",
       "      <td>-7.895580</td>\n",
       "      <td>-1.475560</td>\n",
       "      <td>-7589.280000</td>\n",
       "      <td>-3.291050</td>\n",
       "      <td>-40.967200</td>\n",
       "      <td>-4.143080</td>\n",
       "      <td>-502.813000</td>\n",
       "      <td>...</td>\n",
       "      <td>-12695.700000</td>\n",
       "      <td>-4.059170</td>\n",
       "      <td>0.057800</td>\n",
       "      <td>-1.998800</td>\n",
       "      <td>-24.686300</td>\n",
       "      <td>-1.131980</td>\n",
       "      <td>0.005249</td>\n",
       "      <td>-0.646967</td>\n",
       "      <td>-0.842397</td>\n",
       "      <td>0.000000</td>\n",
       "    </tr>\n",
       "    <tr>\n",
       "      <th>25%</th>\n",
       "      <td>62499.750000</td>\n",
       "      <td>0.251287</td>\n",
       "      <td>18.000000</td>\n",
       "      <td>-0.611172</td>\n",
       "      <td>-0.719418</td>\n",
       "      <td>163.864750</td>\n",
       "      <td>4.110127</td>\n",
       "      <td>27.894900</td>\n",
       "      <td>-0.026245</td>\n",
       "      <td>-17.392025</td>\n",
       "      <td>...</td>\n",
       "      <td>73.203100</td>\n",
       "      <td>11.525450</td>\n",
       "      <td>1.471650</td>\n",
       "      <td>-0.408975</td>\n",
       "      <td>-4.004925</td>\n",
       "      <td>1.906718</td>\n",
       "      <td>0.359646</td>\n",
       "      <td>1.215810</td>\n",
       "      <td>3.732800</td>\n",
       "      <td>1.000000</td>\n",
       "    </tr>\n",
       "    <tr>\n",
       "      <th>50%</th>\n",
       "      <td>124999.500000</td>\n",
       "      <td>0.514962</td>\n",
       "      <td>41.000000</td>\n",
       "      <td>0.253815</td>\n",
       "      <td>0.004099</td>\n",
       "      <td>943.000500</td>\n",
       "      <td>7.472445</td>\n",
       "      <td>91.005250</td>\n",
       "      <td>0.619862</td>\n",
       "      <td>8.714945</td>\n",
       "      <td>...</td>\n",
       "      <td>1060.025000</td>\n",
       "      <td>19.993200</td>\n",
       "      <td>1.660830</td>\n",
       "      <td>0.215710</td>\n",
       "      <td>0.759942</td>\n",
       "      <td>2.340430</td>\n",
       "      <td>0.531348</td>\n",
       "      <td>1.451285</td>\n",
       "      <td>7.182205</td>\n",
       "      <td>4.000000</td>\n",
       "    </tr>\n",
       "    <tr>\n",
       "      <th>75%</th>\n",
       "      <td>187499.250000</td>\n",
       "      <td>0.777323</td>\n",
       "      <td>75.000000</td>\n",
       "      <td>0.759249</td>\n",
       "      <td>0.765456</td>\n",
       "      <td>4115.355000</td>\n",
       "      <td>11.030950</td>\n",
       "      <td>240.843750</td>\n",
       "      <td>0.933855</td>\n",
       "      <td>55.407625</td>\n",
       "      <td>...</td>\n",
       "      <td>5572.982500</td>\n",
       "      <td>32.271625</td>\n",
       "      <td>2.320085</td>\n",
       "      <td>0.503134</td>\n",
       "      <td>6.202502</td>\n",
       "      <td>2.910020</td>\n",
       "      <td>0.709807</td>\n",
       "      <td>1.901632</td>\n",
       "      <td>10.998550</td>\n",
       "      <td>10.000000</td>\n",
       "    </tr>\n",
       "    <tr>\n",
       "      <th>max</th>\n",
       "      <td>249999.000000</td>\n",
       "      <td>1.072070</td>\n",
       "      <td>273.000000</td>\n",
       "      <td>9.768590</td>\n",
       "      <td>1.680190</td>\n",
       "      <td>37847.500000</td>\n",
       "      <td>35.078000</td>\n",
       "      <td>947.143000</td>\n",
       "      <td>4.010380</td>\n",
       "      <td>465.956000</td>\n",
       "      <td>...</td>\n",
       "      <td>54334.600000</td>\n",
       "      <td>79.912400</td>\n",
       "      <td>5.403020</td>\n",
       "      <td>1.944190</td>\n",
       "      <td>42.890400</td>\n",
       "      <td>5.576040</td>\n",
       "      <td>1.105400</td>\n",
       "      <td>4.492620</td>\n",
       "      <td>34.019200</td>\n",
       "      <td>42.000000</td>\n",
       "    </tr>\n",
       "  </tbody>\n",
       "</table>\n",
       "<p>8 rows × 102 columns</p>\n",
       "</div>"
      ],
      "text/plain": [
       "                  id             f0             f1             f2  \\\n",
       "count  250000.000000  250000.000000  250000.000000  250000.000000   \n",
       "mean   124999.500000       0.511213      51.378476       0.107155   \n",
       "std     72168.927986       0.307884      42.396636       1.322200   \n",
       "min         0.000000      -0.069273     -17.000000      -7.895580   \n",
       "25%     62499.750000       0.251287      18.000000      -0.611172   \n",
       "50%    124999.500000       0.514962      41.000000       0.253815   \n",
       "75%    187499.250000       0.777323      75.000000       0.759249   \n",
       "max    249999.000000       1.072070     273.000000       9.768590   \n",
       "\n",
       "                  f3             f4             f5             f6  \\\n",
       "count  250000.000000  250000.000000  250000.000000  250000.000000   \n",
       "mean        0.050010    3595.133426       8.205953     164.508753   \n",
       "std         0.792368    6072.401061       5.475723     183.335563   \n",
       "min        -1.475560   -7589.280000      -3.291050     -40.967200   \n",
       "25%        -0.719418     163.864750       4.110127      27.894900   \n",
       "50%         0.004099     943.000500       7.472445      91.005250   \n",
       "75%         0.765456    4115.355000      11.030950     240.843750   \n",
       "max         1.680190   37847.500000      35.078000     947.143000   \n",
       "\n",
       "                  f7             f8  ...            f91            f92  \\\n",
       "count  250000.000000  250000.000000  ...  250000.000000  250000.000000   \n",
       "mean        0.375533      16.669745  ...    4856.812768      22.579100   \n",
       "std         0.813597      99.758709  ...    8501.609009      14.849390   \n",
       "min        -4.143080    -502.813000  ...  -12695.700000      -4.059170   \n",
       "25%        -0.026245     -17.392025  ...      73.203100      11.525450   \n",
       "50%         0.619862       8.714945  ...    1060.025000      19.993200   \n",
       "75%         0.933855      55.407625  ...    5572.982500      32.271625   \n",
       "max         4.010380     465.956000  ...   54334.600000      79.912400   \n",
       "\n",
       "                 f93            f94            f95            f96  \\\n",
       "count  250000.000000  250000.000000  250000.000000  250000.000000   \n",
       "mean        2.030554       0.079692       1.555097       2.417556   \n",
       "std         0.900211       0.587780       9.253785       0.892563   \n",
       "min         0.057800      -1.998800     -24.686300      -1.131980   \n",
       "25%         1.471650      -0.408975      -4.004925       1.906718   \n",
       "50%         1.660830       0.215710       0.759942       2.340430   \n",
       "75%         2.320085       0.503134       6.202502       2.910020   \n",
       "max         5.403020       1.944190      42.890400       5.576040   \n",
       "\n",
       "                 f97            f98            f99           loss  \n",
       "count  250000.000000  250000.000000  250000.000000  250000.000000  \n",
       "mean        0.537484       1.576900       8.048805       6.813920  \n",
       "std         0.226589       0.646306       5.647368       7.940179  \n",
       "min         0.005249      -0.646967      -0.842397       0.000000  \n",
       "25%         0.359646       1.215810       3.732800       1.000000  \n",
       "50%         0.531348       1.451285       7.182205       4.000000  \n",
       "75%         0.709807       1.901632      10.998550      10.000000  \n",
       "max         1.105400       4.492620      34.019200      42.000000  \n",
       "\n",
       "[8 rows x 102 columns]"
      ]
     },
     "execution_count": 3,
     "metadata": {},
     "output_type": "execute_result"
    }
   ],
   "source": [
    "train_df.describe()"
   ]
  },
  {
   "cell_type": "code",
   "execution_count": 4,
   "id": "1396b84c",
   "metadata": {
    "execution": {
     "iopub.execute_input": "2021-08-07T21:41:29.439780Z",
     "iopub.status.busy": "2021-08-07T21:41:29.439119Z",
     "iopub.status.idle": "2021-08-07T21:41:29.444221Z",
     "shell.execute_reply": "2021-08-07T21:41:29.444692Z",
     "shell.execute_reply.started": "2021-08-07T21:32:40.903052Z"
    },
    "papermill": {
     "duration": 0.024842,
     "end_time": "2021-08-07T21:41:29.444869",
     "exception": false,
     "start_time": "2021-08-07T21:41:29.420027",
     "status": "completed"
    },
    "tags": []
   },
   "outputs": [
    {
     "name": "stdout",
     "output_type": "stream",
     "text": [
      "# of features =  102 \n",
      "\n"
     ]
    },
    {
     "data": {
      "text/plain": [
       "Index(['id', 'f0', 'f1', 'f2', 'f3', 'f4', 'f5', 'f6', 'f7', 'f8',\n",
       "       ...\n",
       "       'f91', 'f92', 'f93', 'f94', 'f95', 'f96', 'f97', 'f98', 'f99', 'loss'],\n",
       "      dtype='object', length=102)"
      ]
     },
     "execution_count": 4,
     "metadata": {},
     "output_type": "execute_result"
    }
   ],
   "source": [
    "print('# of features = ', len(train_df.columns), '\\n')\n",
    "train_df.columns\n",
    "\n",
    "# 100 features, drop 'id', TV is 'loss'"
   ]
  },
  {
   "cell_type": "code",
   "execution_count": 5,
   "id": "de04defa",
   "metadata": {
    "execution": {
     "iopub.execute_input": "2021-08-07T21:41:29.479385Z",
     "iopub.status.busy": "2021-08-07T21:41:29.478113Z",
     "iopub.status.idle": "2021-08-07T21:41:29.533398Z",
     "shell.execute_reply": "2021-08-07T21:41:29.532791Z",
     "shell.execute_reply.started": "2021-08-07T21:32:41.865172Z"
    },
    "papermill": {
     "duration": 0.074368,
     "end_time": "2021-08-07T21:41:29.533540",
     "exception": false,
     "start_time": "2021-08-07T21:41:29.459172",
     "status": "completed"
    },
    "tags": []
   },
   "outputs": [
    {
     "data": {
      "text/plain": [
       "0"
      ]
     },
     "execution_count": 5,
     "metadata": {},
     "output_type": "execute_result"
    }
   ],
   "source": [
    "train_df.isnull().sum().max()\n",
    "\n",
    "# No missing values"
   ]
  },
  {
   "cell_type": "code",
   "execution_count": 6,
   "id": "88e42ca4",
   "metadata": {
    "execution": {
     "iopub.execute_input": "2021-08-07T21:41:29.570467Z",
     "iopub.status.busy": "2021-08-07T21:41:29.569544Z",
     "iopub.status.idle": "2021-08-07T21:41:29.582362Z",
     "shell.execute_reply": "2021-08-07T21:41:29.582809Z",
     "shell.execute_reply.started": "2021-08-07T21:32:42.721529Z"
    },
    "papermill": {
     "duration": 0.034593,
     "end_time": "2021-08-07T21:41:29.582975",
     "exception": false,
     "start_time": "2021-08-07T21:41:29.548382",
     "status": "completed"
    },
    "tags": []
   },
   "outputs": [
    {
     "name": "stdout",
     "output_type": "stream",
     "text": [
      "# of classes =  43\n"
     ]
    },
    {
     "data": {
      "text/plain": [
       "0     60144\n",
       "2     22225\n",
       "1     22069\n",
       "3     15902\n",
       "4     13371\n",
       "5     12458\n",
       "6     10697\n",
       "7      8894\n",
       "8      8264\n",
       "9      7435\n",
       "10     7242\n",
       "11     6572\n",
       "12     5718\n",
       "13     4828\n",
       "14     4182\n",
       "15     3671\n",
       "16     3580\n",
       "17     3420\n",
       "18     3354\n",
       "19     3079\n",
       "20     2878\n",
       "21     2478\n",
       "22     2203\n",
       "23     1875\n",
       "24     1722\n",
       "25     1457\n",
       "26     1385\n",
       "27     1284\n",
       "28     1129\n",
       "29     1096\n",
       "30     1057\n",
       "31      899\n",
       "32      852\n",
       "33      663\n",
       "34      570\n",
       "35      485\n",
       "36      361\n",
       "37      266\n",
       "38      135\n",
       "39       62\n",
       "40       24\n",
       "41       11\n",
       "42        3\n",
       "Name: loss, dtype: int64"
      ]
     },
     "execution_count": 6,
     "metadata": {},
     "output_type": "execute_result"
    }
   ],
   "source": [
    "print('# of classes = ', len(train_df['loss'].value_counts()))\n",
    "train_df['loss'].value_counts()"
   ]
  },
  {
   "cell_type": "code",
   "execution_count": 7,
   "id": "95020381",
   "metadata": {
    "execution": {
     "iopub.execute_input": "2021-08-07T21:41:29.620055Z",
     "iopub.status.busy": "2021-08-07T21:41:29.619062Z",
     "iopub.status.idle": "2021-08-07T21:41:29.830601Z",
     "shell.execute_reply": "2021-08-07T21:41:29.829900Z",
     "shell.execute_reply.started": "2021-08-07T21:32:43.341799Z"
    },
    "papermill": {
     "duration": 0.232363,
     "end_time": "2021-08-07T21:41:29.830749",
     "exception": false,
     "start_time": "2021-08-07T21:41:29.598386",
     "status": "completed"
    },
    "tags": []
   },
   "outputs": [
    {
     "data": {
      "text/plain": [
       "<AxesSubplot:>"
      ]
     },
     "execution_count": 7,
     "metadata": {},
     "output_type": "execute_result"
    },
    {
     "data": {
      "image/png": "[encoded data removed]",
      "text/plain": [
       "<Figure size 432x288 with 1 Axes>"
      ]
     },
     "metadata": {},
     "output_type": "display_data"
    }
   ],
   "source": [
    "sns.set_theme(style=\"whitegrid\")\n",
    "sns.boxplot(data=train_df.loss)"
   ]
  },
  {
   "cell_type": "code",
   "execution_count": 8,
   "id": "401a6c57",
   "metadata": {
    "execution": {
     "iopub.execute_input": "2021-08-07T21:41:29.873126Z",
     "iopub.status.busy": "2021-08-07T21:41:29.868044Z",
     "iopub.status.idle": "2021-08-07T21:41:30.765972Z",
     "shell.execute_reply": "2021-08-07T21:41:30.766539Z",
     "shell.execute_reply.started": "2021-08-07T21:32:43.845527Z"
    },
    "papermill": {
     "duration": 0.919323,
     "end_time": "2021-08-07T21:41:30.766711",
     "exception": false,
     "start_time": "2021-08-07T21:41:29.847388",
     "status": "completed"
    },
    "tags": []
   },
   "outputs": [
    {
     "data": {
      "text/plain": [
       "<seaborn.axisgrid.FacetGrid at 0x7fdef2271150>"
      ]
     },
     "execution_count": 8,
     "metadata": {},
     "output_type": "execute_result"
    },
    {
     "data": {
      "image/png": "[encoded data removed]",
      "text/plain": [
       "<Figure size 360x360 with 1 Axes>"
      ]
     },
     "metadata": {},
     "output_type": "display_data"
    }
   ],
   "source": [
    "sns.displot(train_df.loss)"
   ]
  },
  {
   "cell_type": "code",
   "execution_count": 9,
   "id": "ac911d52",
   "metadata": {
    "execution": {
     "iopub.execute_input": "2021-08-07T21:41:30.804847Z",
     "iopub.status.busy": "2021-08-07T21:41:30.803897Z",
     "iopub.status.idle": "2021-08-07T21:41:30.815121Z",
     "shell.execute_reply": "2021-08-07T21:41:30.815834Z",
     "shell.execute_reply.started": "2021-08-07T21:32:44.701757Z"
    },
    "papermill": {
     "duration": 0.032129,
     "end_time": "2021-08-07T21:41:30.816054",
     "exception": false,
     "start_time": "2021-08-07T21:41:30.783925",
     "status": "completed"
    },
    "tags": []
   },
   "outputs": [
    {
     "name": "stdout",
     "output_type": "stream",
     "text": [
      "float64    95\n",
      "int64       7\n",
      "dtype: int64\n"
     ]
    },
    {
     "data": {
      "text/plain": [
       "id        int64\n",
       "f0      float64\n",
       "f1        int64\n",
       "f2      float64\n",
       "f3      float64\n",
       "         ...   \n",
       "f96     float64\n",
       "f97     float64\n",
       "f98     float64\n",
       "f99     float64\n",
       "loss      int64\n",
       "Length: 102, dtype: object"
      ]
     },
     "execution_count": 9,
     "metadata": {},
     "output_type": "execute_result"
    }
   ],
   "source": [
    "print(train_df.dtypes.value_counts())\n",
    "train_df.dtypes"
   ]
  },
  {
   "cell_type": "code",
   "execution_count": 10,
   "id": "e82eeec9",
   "metadata": {
    "execution": {
     "iopub.execute_input": "2021-08-07T21:41:30.855630Z",
     "iopub.status.busy": "2021-08-07T21:41:30.854997Z",
     "iopub.status.idle": "2021-08-07T21:41:31.351751Z",
     "shell.execute_reply": "2021-08-07T21:41:31.351178Z",
     "shell.execute_reply.started": "2021-08-07T21:32:44.951313Z"
    },
    "papermill": {
     "duration": 0.51718,
     "end_time": "2021-08-07T21:41:31.351895",
     "exception": false,
     "start_time": "2021-08-07T21:41:30.834715",
     "status": "completed"
    },
    "tags": []
   },
   "outputs": [],
   "source": [
    "from sklearn.metrics import mean_squared_error\n",
    "from sklearn.model_selection import StratifiedKFold\n",
    "from sklearn.model_selection import KFold\n",
    "from sklearn.linear_model import LinearRegression, LogisticRegression\n",
    "from catboost import CatBoostRegressor, CatBoostClassifier"
   ]
  },
  {
   "cell_type": "code",
   "execution_count": 11,
   "id": "2371ab0a",
   "metadata": {
    "execution": {
     "iopub.execute_input": "2021-08-07T21:41:31.397459Z",
     "iopub.status.busy": "2021-08-07T21:41:31.396779Z",
     "iopub.status.idle": "2021-08-07T21:46:10.974663Z",
     "shell.execute_reply": "2021-08-07T21:46:10.975202Z",
     "shell.execute_reply.started": "2021-08-07T21:32:45.497341Z"
    },
    "papermill": {
     "duration": 279.605331,
     "end_time": "2021-08-07T21:46:10.975408",
     "exception": false,
     "start_time": "2021-08-07T21:41:31.370077",
     "status": "completed"
    },
    "tags": []
   },
   "outputs": [
    {
     "name": "stderr",
     "output_type": "stream",
     "text": [
      "/opt/conda/lib/python3.7/site-packages/sklearn/model_selection/_split.py:672: UserWarning: The least populated class in y has only 3 members, which is less than n_splits=5.\n",
      "  % (min_groups, self.n_splits)), UserWarning)\n"
     ]
    },
    {
     "name": "stdout",
     "output_type": "stream",
     "text": [
      "Fold 0: RMSE:  7.850131501961838\n",
      "Fold 1: RMSE:  7.853977292376181\n",
      "Fold 2: RMSE:  7.860017958311294\n",
      "Fold 3: RMSE:  7.863019950588626\n",
      "Fold 4: RMSE:  7.857596789369385\n",
      "Cat-boost Accuracy:  7.856949996784925\n"
     ]
    }
   ],
   "source": [
    "features = list(train_df.columns[1:101])\n",
    "train_cat = np.zeros((250000,))\n",
    "skf = StratifiedKFold(n_splits=5, shuffle=True, random_state=42)\n",
    "\n",
    "for fold, (train_idx, valid_idx) in enumerate(skf.split(train_df[features], train_df['loss'])):\n",
    "    X_train, X_valid = train_df.iloc[train_idx], train_df.iloc[valid_idx]\n",
    "    y_train = X_train['loss']\n",
    "    y_valid = X_valid['loss']\n",
    "    X_train = X_train.drop('loss', axis=1)\n",
    "    X_valid = X_valid.drop('loss', axis=1)\n",
    "    \n",
    "    cbr = CatBoostRegressor(random_state=42)\n",
    "\n",
    "    cbr =  cbr.fit(X_train, y_train, verbose=False)\n",
    "    temp_cat = cbr.predict(X_valid)\n",
    "    train_cat[valid_idx] = temp_cat\n",
    "    print(f'Fold {fold}: RMSE: ', mean_squared_error(y_valid, temp_cat, squared=False))\n",
    "    \n",
    "print(f'Cat-boost Accuracy: ', mean_squared_error(train_df['loss'], train_cat, squared=False))"
   ]
  },
  {
   "cell_type": "code",
   "execution_count": 12,
   "id": "4a00d485",
   "metadata": {
    "execution": {
     "iopub.execute_input": "2021-08-07T21:46:11.020456Z",
     "iopub.status.busy": "2021-08-07T21:46:11.019830Z",
     "iopub.status.idle": "2021-08-07T21:46:15.566705Z",
     "shell.execute_reply": "2021-08-07T21:46:15.566123Z",
     "shell.execute_reply.started": "2021-08-07T21:39:42.405072Z"
    },
    "papermill": {
     "duration": 4.571681,
     "end_time": "2021-08-07T21:46:15.566861",
     "exception": false,
     "start_time": "2021-08-07T21:46:10.995180",
     "status": "completed"
    },
    "tags": []
   },
   "outputs": [],
   "source": [
    "test_df = pd.read_csv(\"/kaggle/input/tabular-playground-series-aug-2021/test.csv\")\n",
    "test_cat = np.zeros((len(test_df),))\n",
    "\n",
    "X_test = test_df\n",
    "temp_cat = cbr.predict(X_test)\n",
    "test_cat= temp_cat\n",
    "\n",
    "temp_cat = cbr.predict(X_test)\n"
   ]
  },
  {
   "cell_type": "markdown",
   "id": "f21e80d5",
   "metadata": {
    "papermill": {
     "duration": 0.019578,
     "end_time": "2021-08-07T21:46:15.606301",
     "exception": false,
     "start_time": "2021-08-07T21:46:15.586723",
     "status": "completed"
    },
    "tags": []
   },
   "source": [
    "# **Sample submission**"
   ]
  },
  {
   "cell_type": "code",
   "execution_count": 13,
   "id": "1f6d3619",
   "metadata": {
    "execution": {
     "iopub.execute_input": "2021-08-07T21:46:15.648820Z",
     "iopub.status.busy": "2021-08-07T21:46:15.648172Z",
     "iopub.status.idle": "2021-08-07T21:46:16.233512Z",
     "shell.execute_reply": "2021-08-07T21:46:16.232525Z",
     "shell.execute_reply.started": "2021-08-07T21:40:51.645005Z"
    },
    "papermill": {
     "duration": 0.607587,
     "end_time": "2021-08-07T21:46:16.233680",
     "exception": false,
     "start_time": "2021-08-07T21:46:15.626093",
     "status": "completed"
    },
    "tags": []
   },
   "outputs": [],
   "source": [
    "samp_sub = pd.read_csv('../input/tabular-playground-series-aug-2021/sample_submission.csv')\n",
    "samp_sub['loss'] = test_cat\n",
    "samp_sub.to_csv('cat_boost.csv', index = False)"
   ]
  }
 ],
 "metadata": {
  "kernelspec": {
   "display_name": "Python 3",
   "language": "python",
   "name": "python3"
  },
  "language_info": {
   "codemirror_mode": {
    "name": "ipython",
    "version": 3
   },
   "file_extension": ".py",
   "mimetype": "text/x-python",
   "name": "python",
   "nbconvert_exporter": "python",
   "pygments_lexer": "ipython3",
   "version": "3.7.10"
  },
  "papermill": {
   "default_parameters": {},
   "duration": 305.866309,
   "end_time": "2021-08-07T21:46:18.040479",
   "environment_variables": {},
   "exception": null,
   "input_path": "__notebook__.ipynb",
   "output_path": "__notebook__.ipynb",
   "parameters": {},
   "start_time": "2021-08-07T21:41:12.174170",
   "version": "2.3.3"
  }
 },
 "nbformat": 4,
 "nbformat_minor": 5
}
